{
 "cells": [
  {
   "cell_type": "code",
   "execution_count": 7,
   "id": "b9de3d60",
   "metadata": {},
   "outputs": [
    {
     "name": "stdout",
     "output_type": "stream",
     "text": [
      "english_data.xlsx\n"
     ]
    }
   ],
   "source": [
    "import pandas as pd\n",
    "import re\n",
    "#1 Full set\n",
    "#2 English set\n",
    "#3 Arabic set\n",
    "\n",
    "activeSubSetIndex = 2\n",
    "\n",
    "fullSet= 'processed_1' \n",
    "arabicSubset='arabic_data'\n",
    "englishSubset='english_data'\n",
    "\n",
    "activeSubset = fullSet if activeSubSetIndex == 1 else (arabicSubset if activeSubSetIndex == 3 else englishSubset)\n",
    "\n",
    "pd.options.display.float_format = '{:.1f}'.format # Display the number with one decimal place\n",
    "\n",
    "file_name = f'{activeSubset}.xlsx'\n",
    "print(file_name)\n",
    "\n",
    "df = pd.read_excel(file_name)"
   ]
  },
  {
   "cell_type": "code",
   "execution_count": 4,
   "id": "b438c62d",
   "metadata": {},
   "outputs": [],
   "source": [
    "# Pipeline 1: If there is null value in the Ar description field, please replace it in the English description and Vice Versa\n",
    "# only works for Full Set\n",
    "\n",
    "for column in df.columns:\n",
    "    if 'ar' in column.lower() or 'en' in column.lower():\n",
    "        opposite_column = 'ARABIC_DIMENSION_DETAIL' if 'en' in column.lower() else 'ENGLISH_DIMENSION_DETAIL'\n",
    "        df[column].fillna(df[opposite_column], inplace=True)\n",
    "\n",
    "\n",
    "\n",
    "normlized = 'processed_1.xlsx'\n",
    "\n",
    "df.to_excel(normlized, index=False)\n",
    "\n",
    "\n",
    "\n",
    "\n",
    "\n",
    "\n"
   ]
  },
  {
   "cell_type": "code",
   "execution_count": 6,
   "id": "1dae5eb7",
   "metadata": {},
   "outputs": [],
   "source": [
    "# Split the DataFrame based on columns\n",
    "arabic_columns = ['SUBJECT_ID', 'ARABIC_SUBJECT', 'ARABIC_DIMENSION', 'ARABIC_DIMENSION_DETAIL']\n",
    "english_columns = ['SUBJECT_ID', 'ENGLISH_SUBJECT', 'ENGLISH_DIMENSION', 'ENGLISH_DIMENSION_DETAIL']\n",
    "\n",
    "arabic_df = df[arabic_columns]\n",
    "english_df = df[english_columns]\n",
    "\n",
    "# Export the split DataFrames to separate Excel files\n",
    "arabic_output_file = 'arabic_data.xlsx'\n",
    "english_output_file = 'english_data.xlsx'\n",
    "\n",
    "\n",
    "\n",
    "arabic_df.to_excel(arabic_output_file, index=False)\n",
    "english_df.to_excel(english_output_file, index=False)\n"
   ]
  },
  {
   "cell_type": "code",
   "execution_count": 9,
   "id": "4b9c2b4e",
   "metadata": {},
   "outputs": [
    {
     "data": {
      "text/plain": [
       "(14793, 4)"
      ]
     },
     "execution_count": 9,
     "metadata": {},
     "output_type": "execute_result"
    }
   ],
   "source": [
    "# Pipeline 2: Ignoring Specific Dimensional Values\n",
    "ignore_values = ['Not-Applicable', 'لا ينطبق', 'Not-Available', 'غير متوفر', 'Exceptions', 'الاستثناءات', '(deleted)', '(ملغي)']\n",
    "for column in df.columns:\n",
    "    if 'ar' in column.lower() or 'en' in column.lower():\n",
    "        ignore_filter = df[column].isin(ignore_values)\n",
    "        df = df[~ignore_filter]\n",
    "\n",
    "# Pipeline 3: Padding Space in Description Fields\n",
    "padding_width = 0\n",
    "for column in df.columns:\n",
    "    if 'ar' in column.lower() or 'en' in column.lower():\n",
    "        df[column] = df[column].str.ljust(padding_width) if 'ar' in column.lower() else df[column].str.rjust(padding_width)\n",
    "\n",
    "\n",
    "\n",
    "# Pipeline 4: Removing Symbol '=' from Description Fields\n",
    "for column in df.columns:\n",
    "    if 'ar' in column.lower() or 'en' in column.lower():\n",
    "        df[column] = df[column].str.replace('=', '')\n",
    "\n",
    "# Pipeline 5: Dealing with Upper/Lower Cases\n",
    "for column in df.columns:\n",
    "    if 'ar' in column.lower() or 'en' in column.lower():\n",
    "        df[column] = df[column].str.lower() if 'ar' in column.lower() else df[column].str.upper()\n",
    "\n",
    "# Pipeline 6: Dealing with Special Arabic Characters\n",
    "\n",
    "\n",
    "\n",
    "'''\n",
    "arabic_chars_mapping = {\n",
    "    'أ': 'ا',\n",
    "    'إ': 'ا',\n",
    "    'ا': 'ا',\n",
    "    'ه': 'ة',\n",
    "    'ة': 'ه'\n",
    "}\n",
    "\n",
    "def replace_arabic_chars(text):\n",
    "    if isinstance(text, float):\n",
    "        return str(text)  # Convert float cells to strings\n",
    "    for char, replacement in arabic_chars_mapping.items():\n",
    "        text = text.replace(char, replacement)\n",
    "    return text\n",
    "\n",
    "for column in df.columns:\n",
    "    if 'ar' in column.lower():\n",
    "        df[column] = df[column].apply(replace_arabic_chars)\n",
    "\n",
    "'''\n",
    "\n",
    "def replace_arabic_chars(text):\n",
    "    if isinstance(text, float):\n",
    "        return str(text)  # Convert float cells to strings\n",
    "    for char, replacement in arabic_chars_mapping.items():\n",
    "        text = text.replace(char, replacement)\n",
    "    return text\n",
    "\n",
    "for column in df.columns:\n",
    "    if 'ar' in column.lower():\n",
    "        df[column] = df[column].apply(replace_arabic_chars)\n",
    "\n",
    "\n",
    "'''\n",
    "# Pipeline 7: Removing Duplicate Rows\n",
    "df.drop_duplicates(subset=df.columns, inplace=True)\n",
    "'''\n",
    "\n",
    "# Drop duplicates based on the \"HS\" column\n",
    "df_deduplicated = df.drop_duplicates(subset=['ENGLISH_DIMENSION_DETAIL'], inplace=True)\n",
    "\n",
    "df.shape\n"
   ]
  },
  {
   "cell_type": "code",
   "execution_count": 10,
   "id": "f90649bc",
   "metadata": {},
   "outputs": [
    {
     "name": "stdout",
     "output_type": "stream",
     "text": [
      "DataFrame exported to 'modified_data_english_data.xlsx'\n"
     ]
    }
   ],
   "source": [
    "output_file = f'modified_data_{activeSubset}.xlsx'\n",
    "\n",
    "df.to_excel(output_file, index=False)\n",
    "print(f\"DataFrame exported to '{output_file}'\")"
   ]
  },
  {
   "cell_type": "code",
   "execution_count": null,
   "id": "eece8efc",
   "metadata": {},
   "outputs": [],
   "source": []
  }
 ],
 "metadata": {
  "kernelspec": {
   "display_name": "Python 3 (ipykernel)",
   "language": "python",
   "name": "python3"
  },
  "language_info": {
   "codemirror_mode": {
    "name": "ipython",
    "version": 3
   },
   "file_extension": ".py",
   "mimetype": "text/x-python",
   "name": "python",
   "nbconvert_exporter": "python",
   "pygments_lexer": "ipython3",
   "version": "3.11.4"
  }
 },
 "nbformat": 4,
 "nbformat_minor": 5
}
